{
  "nbformat": 4,
  "nbformat_minor": 0,
  "metadata": {
    "kernelspec": {
      "display_name": "Python 3",
      "language": "python",
      "name": "python3"
    },
    "language_info": {
      "codemirror_mode": {
        "name": "ipython",
        "version": 3
      },
      "file_extension": ".py",
      "mimetype": "text/x-python",
      "name": "python",
      "nbconvert_exporter": "python",
      "pygments_lexer": "ipython3",
      "version": "3.7.6"
    },
    "colab": {
      "name": "Content-based sinhala book recommender system.ipynb",
      "provenance": []
    }
  },
  "cells": [
    {
      "cell_type": "code",
      "metadata": {
        "id": "wv1pE9oD-VLW"
      },
      "source": [
        "import pandas as pd\n",
        "import numpy as np\n",
        "from sklearn.metrics.pairwise import cosine_similarity\n",
        "from sklearn.feature_extraction.text import CountVectorizer\n",
        "from sklearn.feature_extraction.text import TfidfVectorizer"
      ],
      "execution_count": 2,
      "outputs": []
    },
    {
      "cell_type": "markdown",
      "metadata": {
        "id": "buXFkJLs-VLi"
      },
      "source": [
        "## Loading the dataset"
      ]
    },
    {
      "cell_type": "code",
      "metadata": {
        "id": "JZAd1fHa-VLk",
        "outputId": "92165146-64be-489d-80bc-e9ba6a308f76",
        "colab": {
          "base_uri": "https://localhost:8080/",
          "height": 289
        }
      },
      "source": [
        "url = 'https://raw.githubusercontent.com/DinushaSan/Projects-/master/Booklist.csv'\n",
        "books = pd.read_csv(url)\n",
        "books.head()"
      ],
      "execution_count": 3,
      "outputs": [
        {
          "output_type": "execute_result",
          "data": {
            "text/html": [
              "<div>\n",
              "<style scoped>\n",
              "    .dataframe tbody tr th:only-of-type {\n",
              "        vertical-align: middle;\n",
              "    }\n",
              "\n",
              "    .dataframe tbody tr th {\n",
              "        vertical-align: top;\n",
              "    }\n",
              "\n",
              "    .dataframe thead th {\n",
              "        text-align: right;\n",
              "    }\n",
              "</style>\n",
              "<table border=\"1\" class=\"dataframe\">\n",
              "  <thead>\n",
              "    <tr style=\"text-align: right;\">\n",
              "      <th></th>\n",
              "      <th>No</th>\n",
              "      <th>Category</th>\n",
              "      <th>Name</th>\n",
              "      <th>Author</th>\n",
              "      <th>KeyWords</th>\n",
              "      <th>Top 5 Key Words</th>\n",
              "    </tr>\n",
              "  </thead>\n",
              "  <tbody>\n",
              "    <tr>\n",
              "      <th>0</th>\n",
              "      <td>1</td>\n",
              "      <td>Religious</td>\n",
              "      <td>AmaWathura</td>\n",
              "      <td>Gurulugomi</td>\n",
              "      <td>Gurulugomi, Gatapada, Parani, Pali, Attakatha,...</td>\n",
              "      <td>Gurulugomi,Gatapada, Parani,Attakatha, Jathaka</td>\n",
              "    </tr>\n",
              "    <tr>\n",
              "      <th>1</th>\n",
              "      <td>2</td>\n",
              "      <td>Religious</td>\n",
              "      <td>ButhSarana</td>\n",
              "      <td>Widyachakrawarthin</td>\n",
              "      <td>Widyachakrawarthin, Jathaka, Weera Katha, Para...</td>\n",
              "      <td>Widyachakrawarthin, Jathaka,Parani,Anukampawa,...</td>\n",
              "    </tr>\n",
              "    <tr>\n",
              "      <th>2</th>\n",
              "      <td>3</td>\n",
              "      <td>Religious</td>\n",
              "      <td>Paramartha Wibagaya Sahitha Winayopadeshaya</td>\n",
              "      <td>Witiyala Sri Sarananda Maha Sthawira</td>\n",
              "      <td>Upadesha, Winaya Karma, Pooja Krama, Daramaya,...</td>\n",
              "      <td>Srala Basa, Upadesha, Winaya Karma, Pooja Kram...</td>\n",
              "    </tr>\n",
              "    <tr>\n",
              "      <th>3</th>\n",
              "      <td>4</td>\n",
              "      <td>Religious</td>\n",
              "      <td>Pachna Prabha</td>\n",
              "      <td>Thrikunamalaye Ananda Sthawira</td>\n",
              "      <td>Prachnawa, Weerya, Arisen Ahubudu, Samajaya, N...</td>\n",
              "      <td>Arisen Ahubudu,Nirwanaya, Seelaya,Samajaya,Pr...</td>\n",
              "    </tr>\n",
              "    <tr>\n",
              "      <th>4</th>\n",
              "      <td>5</td>\n",
              "      <td>Religious</td>\n",
              "      <td>Budu Dahama Ha Buddagama</td>\n",
              "      <td>M.M.J Marasingha</td>\n",
              "      <td>Parinirwanaya, Baudda Ithihasaya, Ethihasika S...</td>\n",
              "      <td>Parinirwanaya,Baudda Ithihasaya, Ethihasika St...</td>\n",
              "    </tr>\n",
              "  </tbody>\n",
              "</table>\n",
              "</div>"
            ],
            "text/plain": [
              "   No  ...                                    Top 5 Key Words\n",
              "0   1  ...     Gurulugomi,Gatapada, Parani,Attakatha, Jathaka\n",
              "1   2  ...  Widyachakrawarthin, Jathaka,Parani,Anukampawa,...\n",
              "2   3  ...  Srala Basa, Upadesha, Winaya Karma, Pooja Kram...\n",
              "3   4  ...   Arisen Ahubudu,Nirwanaya, Seelaya,Samajaya,Pr...\n",
              "4   5  ...  Parinirwanaya,Baudda Ithihasaya, Ethihasika St...\n",
              "\n",
              "[5 rows x 6 columns]"
            ]
          },
          "metadata": {
            "tags": []
          },
          "execution_count": 3
        }
      ]
    },
    {
      "cell_type": "markdown",
      "metadata": {
        "id": "YxbQWfBg-VLw"
      },
      "source": [
        "## Cleaning the dataset"
      ]
    },
    {
      "cell_type": "code",
      "metadata": {
        "id": "laYpLXB7-VLx"
      },
      "source": [
        "books = books[['Category','Name','Author','KeyWords']]"
      ],
      "execution_count": 4,
      "outputs": []
    },
    {
      "cell_type": "code",
      "metadata": {
        "id": "kUTdxeH2-VL8",
        "outputId": "4ccd0a3a-ac94-4cbc-8bf0-20c9fd31bbbe",
        "colab": {
          "base_uri": "https://localhost:8080/",
          "height": 204
        }
      },
      "source": [
        "books.head()"
      ],
      "execution_count": 5,
      "outputs": [
        {
          "output_type": "execute_result",
          "data": {
            "text/html": [
              "<div>\n",
              "<style scoped>\n",
              "    .dataframe tbody tr th:only-of-type {\n",
              "        vertical-align: middle;\n",
              "    }\n",
              "\n",
              "    .dataframe tbody tr th {\n",
              "        vertical-align: top;\n",
              "    }\n",
              "\n",
              "    .dataframe thead th {\n",
              "        text-align: right;\n",
              "    }\n",
              "</style>\n",
              "<table border=\"1\" class=\"dataframe\">\n",
              "  <thead>\n",
              "    <tr style=\"text-align: right;\">\n",
              "      <th></th>\n",
              "      <th>Category</th>\n",
              "      <th>Name</th>\n",
              "      <th>Author</th>\n",
              "      <th>KeyWords</th>\n",
              "    </tr>\n",
              "  </thead>\n",
              "  <tbody>\n",
              "    <tr>\n",
              "      <th>0</th>\n",
              "      <td>Religious</td>\n",
              "      <td>AmaWathura</td>\n",
              "      <td>Gurulugomi</td>\n",
              "      <td>Gurulugomi, Gatapada, Parani, Pali, Attakatha,...</td>\n",
              "    </tr>\n",
              "    <tr>\n",
              "      <th>1</th>\n",
              "      <td>Religious</td>\n",
              "      <td>ButhSarana</td>\n",
              "      <td>Widyachakrawarthin</td>\n",
              "      <td>Widyachakrawarthin, Jathaka, Weera Katha, Para...</td>\n",
              "    </tr>\n",
              "    <tr>\n",
              "      <th>2</th>\n",
              "      <td>Religious</td>\n",
              "      <td>Paramartha Wibagaya Sahitha Winayopadeshaya</td>\n",
              "      <td>Witiyala Sri Sarananda Maha Sthawira</td>\n",
              "      <td>Upadesha, Winaya Karma, Pooja Krama, Daramaya,...</td>\n",
              "    </tr>\n",
              "    <tr>\n",
              "      <th>3</th>\n",
              "      <td>Religious</td>\n",
              "      <td>Pachna Prabha</td>\n",
              "      <td>Thrikunamalaye Ananda Sthawira</td>\n",
              "      <td>Prachnawa, Weerya, Arisen Ahubudu, Samajaya, N...</td>\n",
              "    </tr>\n",
              "    <tr>\n",
              "      <th>4</th>\n",
              "      <td>Religious</td>\n",
              "      <td>Budu Dahama Ha Buddagama</td>\n",
              "      <td>M.M.J Marasingha</td>\n",
              "      <td>Parinirwanaya, Baudda Ithihasaya, Ethihasika S...</td>\n",
              "    </tr>\n",
              "  </tbody>\n",
              "</table>\n",
              "</div>"
            ],
            "text/plain": [
              "    Category  ...                                           KeyWords\n",
              "0  Religious  ...  Gurulugomi, Gatapada, Parani, Pali, Attakatha,...\n",
              "1  Religious  ...  Widyachakrawarthin, Jathaka, Weera Katha, Para...\n",
              "2  Religious  ...  Upadesha, Winaya Karma, Pooja Krama, Daramaya,...\n",
              "3  Religious  ...  Prachnawa, Weerya, Arisen Ahubudu, Samajaya, N...\n",
              "4  Religious  ...  Parinirwanaya, Baudda Ithihasaya, Ethihasika S...\n",
              "\n",
              "[5 rows x 4 columns]"
            ]
          },
          "metadata": {
            "tags": []
          },
          "execution_count": 5
        }
      ]
    },
    {
      "cell_type": "code",
      "metadata": {
        "id": "lp5DSZwc-VMG",
        "outputId": "67b6d7b1-8c30-44c4-89e5-7b8203124152",
        "colab": {
          "base_uri": "https://localhost:8080/",
          "height": 102
        }
      },
      "source": [
        "#checking for null values\n",
        "books.isnull().sum()"
      ],
      "execution_count": 6,
      "outputs": [
        {
          "output_type": "execute_result",
          "data": {
            "text/plain": [
              "Category    0\n",
              "Name        0\n",
              "Author      0\n",
              "KeyWords    0\n",
              "dtype: int64"
            ]
          },
          "metadata": {
            "tags": []
          },
          "execution_count": 6
        }
      ]
    },
    {
      "cell_type": "code",
      "metadata": {
        "id": "CAyfnjr0-VMP",
        "outputId": "c191ddd4-4561-4cf1-f1c3-e9cf1d838f5d",
        "colab": {
          "base_uri": "https://localhost:8080/",
          "height": 34
        }
      },
      "source": [
        "books.shape"
      ],
      "execution_count": 7,
      "outputs": [
        {
          "output_type": "execute_result",
          "data": {
            "text/plain": [
              "(200, 4)"
            ]
          },
          "metadata": {
            "tags": []
          },
          "execution_count": 7
        }
      ]
    },
    {
      "cell_type": "code",
      "metadata": {
        "id": "Nqbw4tBL-VMX"
      },
      "source": [
        "#Getting top 5 keywords\n",
        "books['KeyWords'] = books['KeyWords'].map(lambda x: x.split(',')[:5])"
      ],
      "execution_count": 8,
      "outputs": []
    },
    {
      "cell_type": "code",
      "metadata": {
        "id": "RhtbO40O-VMi",
        "outputId": "a13526b5-e40e-4890-f470-330f208c0b66",
        "colab": {
          "base_uri": "https://localhost:8080/",
          "height": 204
        }
      },
      "source": [
        "books.head()"
      ],
      "execution_count": 9,
      "outputs": [
        {
          "output_type": "execute_result",
          "data": {
            "text/html": [
              "<div>\n",
              "<style scoped>\n",
              "    .dataframe tbody tr th:only-of-type {\n",
              "        vertical-align: middle;\n",
              "    }\n",
              "\n",
              "    .dataframe tbody tr th {\n",
              "        vertical-align: top;\n",
              "    }\n",
              "\n",
              "    .dataframe thead th {\n",
              "        text-align: right;\n",
              "    }\n",
              "</style>\n",
              "<table border=\"1\" class=\"dataframe\">\n",
              "  <thead>\n",
              "    <tr style=\"text-align: right;\">\n",
              "      <th></th>\n",
              "      <th>Category</th>\n",
              "      <th>Name</th>\n",
              "      <th>Author</th>\n",
              "      <th>KeyWords</th>\n",
              "    </tr>\n",
              "  </thead>\n",
              "  <tbody>\n",
              "    <tr>\n",
              "      <th>0</th>\n",
              "      <td>Religious</td>\n",
              "      <td>AmaWathura</td>\n",
              "      <td>Gurulugomi</td>\n",
              "      <td>[Gurulugomi,  Gatapada,  Parani,  Pali,  Attak...</td>\n",
              "    </tr>\n",
              "    <tr>\n",
              "      <th>1</th>\n",
              "      <td>Religious</td>\n",
              "      <td>ButhSarana</td>\n",
              "      <td>Widyachakrawarthin</td>\n",
              "      <td>[Widyachakrawarthin,  Jathaka,  Weera Katha,  ...</td>\n",
              "    </tr>\n",
              "    <tr>\n",
              "      <th>2</th>\n",
              "      <td>Religious</td>\n",
              "      <td>Paramartha Wibagaya Sahitha Winayopadeshaya</td>\n",
              "      <td>Witiyala Sri Sarananda Maha Sthawira</td>\n",
              "      <td>[Upadesha,  Winaya Karma,  Pooja Krama,  Daram...</td>\n",
              "    </tr>\n",
              "    <tr>\n",
              "      <th>3</th>\n",
              "      <td>Religious</td>\n",
              "      <td>Pachna Prabha</td>\n",
              "      <td>Thrikunamalaye Ananda Sthawira</td>\n",
              "      <td>[Prachnawa,  Weerya,  Arisen Ahubudu,  Samajay...</td>\n",
              "    </tr>\n",
              "    <tr>\n",
              "      <th>4</th>\n",
              "      <td>Religious</td>\n",
              "      <td>Budu Dahama Ha Buddagama</td>\n",
              "      <td>M.M.J Marasingha</td>\n",
              "      <td>[Parinirwanaya,  Baudda Ithihasaya,  Ethihasik...</td>\n",
              "    </tr>\n",
              "  </tbody>\n",
              "</table>\n",
              "</div>"
            ],
            "text/plain": [
              "    Category  ...                                           KeyWords\n",
              "0  Religious  ...  [Gurulugomi,  Gatapada,  Parani,  Pali,  Attak...\n",
              "1  Religious  ...  [Widyachakrawarthin,  Jathaka,  Weera Katha,  ...\n",
              "2  Religious  ...  [Upadesha,  Winaya Karma,  Pooja Krama,  Daram...\n",
              "3  Religious  ...  [Prachnawa,  Weerya,  Arisen Ahubudu,  Samajay...\n",
              "4  Religious  ...  [Parinirwanaya,  Baudda Ithihasaya,  Ethihasik...\n",
              "\n",
              "[5 rows x 4 columns]"
            ]
          },
          "metadata": {
            "tags": []
          },
          "execution_count": 9
        }
      ]
    },
    {
      "cell_type": "code",
      "metadata": {
        "id": "vRQKkCbi-VMp"
      },
      "source": [
        ""
      ],
      "execution_count": 9,
      "outputs": []
    },
    {
      "cell_type": "markdown",
      "metadata": {
        "id": "Aspdo7TV-VMz"
      },
      "source": [
        "## Plotting the graph according to category"
      ]
    },
    {
      "cell_type": "code",
      "metadata": {
        "id": "kGA-c7dC-VM0",
        "outputId": "8e9938c7-a12d-4343-9541-b8dc3de1d59a",
        "colab": {
          "base_uri": "https://localhost:8080/",
          "height": 382
        }
      },
      "source": [
        "books['Category'].value_counts().plot(x = 'Category', y ='count', kind = 'bar', figsize = (10,5)  )"
      ],
      "execution_count": 10,
      "outputs": [
        {
          "output_type": "execute_result",
          "data": {
            "text/plain": [
              "<matplotlib.axes._subplots.AxesSubplot at 0x7fce4d17cf98>"
            ]
          },
          "metadata": {
            "tags": []
          },
          "execution_count": 10
        },
        {
          "output_type": "display_data",
          "data": {
            "image/png": "[encoded data removed]",
            "text/plain": [
              "<Figure size 720x360 with 1 Axes>"
            ]
          },
          "metadata": {
            "tags": [],
            "needs_background": "light"
          }
        }
      ]
    },
    {
      "cell_type": "markdown",
      "metadata": {
        "id": "qh6rmsGl-VM9"
      },
      "source": [
        "## Recommend books of  the same category "
      ]
    },
    {
      "cell_type": "code",
      "metadata": {
        "id": "uEl-VzKO-VM-"
      },
      "source": [
        "def recommenderCategory(Name, Category):\n",
        "    bookdata = books.loc[books['Category'] == Category]  \n",
        "    bookdata.reset_index(level = 0, inplace = True)\n",
        "    indices = pd.Series(bookdata.index, index = bookdata['Name'])\n",
        "#applying tifdif matrix to data\n",
        "    tf = TfidfVectorizer(analyzer='word', ngram_range=(2, 2), min_df = 1, stop_words='english')\n",
        "    tfidf_matrix = tf.fit_transform(bookdata['Name'])\n",
        "#applying cosine similarity matrix\n",
        "    sg = cosine_similarity(tfidf_matrix, tfidf_matrix)\n",
        "    idx = indices[Name]\n",
        "    sig = list(enumerate(sg[idx]))\n",
        "# Sort the books\n",
        "    sig = sorted(sig, key=lambda x: x[1], reverse=True)\n",
        "# Scores of the 10 most similar books \n",
        "    sig = sig[1:11]\n",
        "# Book indicies\n",
        "    book_indices = [i[0] for i in sig]\n",
        "    rec = bookdata[['Name']].iloc[book_indices]\n",
        "    return rec"
      ],
      "execution_count": 11,
      "outputs": []
    },
    {
      "cell_type": "code",
      "metadata": {
        "id": "ZHWYw3as-VNC",
        "outputId": "9fdd5dc2-b652-47e9-c2e0-a119009b9062",
        "colab": {
          "base_uri": "https://localhost:8080/",
          "height": 359
        }
      },
      "source": [
        "recommenderCategory('AmaWathura','Religious')"
      ],
      "execution_count": 12,
      "outputs": [
        {
          "output_type": "execute_result",
          "data": {
            "text/html": [
              "<div>\n",
              "<style scoped>\n",
              "    .dataframe tbody tr th:only-of-type {\n",
              "        vertical-align: middle;\n",
              "    }\n",
              "\n",
              "    .dataframe tbody tr th {\n",
              "        vertical-align: top;\n",
              "    }\n",
              "\n",
              "    .dataframe thead th {\n",
              "        text-align: right;\n",
              "    }\n",
              "</style>\n",
              "<table border=\"1\" class=\"dataframe\">\n",
              "  <thead>\n",
              "    <tr style=\"text-align: right;\">\n",
              "      <th></th>\n",
              "      <th>Name</th>\n",
              "    </tr>\n",
              "  </thead>\n",
              "  <tbody>\n",
              "    <tr>\n",
              "      <th>1</th>\n",
              "      <td>ButhSarana</td>\n",
              "    </tr>\n",
              "    <tr>\n",
              "      <th>2</th>\n",
              "      <td>Paramartha Wibagaya Sahitha Winayopadeshaya</td>\n",
              "    </tr>\n",
              "    <tr>\n",
              "      <th>3</th>\n",
              "      <td>Pachna Prabha</td>\n",
              "    </tr>\n",
              "    <tr>\n",
              "      <th>4</th>\n",
              "      <td>Budu Dahama Ha Buddagama</td>\n",
              "    </tr>\n",
              "    <tr>\n",
              "      <th>5</th>\n",
              "      <td>Datawanshaya</td>\n",
              "    </tr>\n",
              "    <tr>\n",
              "      <th>6</th>\n",
              "      <td>Maha Bodhi Wansha Granthi Padaya</td>\n",
              "    </tr>\n",
              "    <tr>\n",
              "      <th>7</th>\n",
              "      <td>Pansiya Panas Jathaka Katha Potha Saha Gatum N...</td>\n",
              "    </tr>\n",
              "    <tr>\n",
              "      <th>8</th>\n",
              "      <td>Sahana</td>\n",
              "    </tr>\n",
              "    <tr>\n",
              "      <th>9</th>\n",
              "      <td>Baudda Darshanaya Adyanaya</td>\n",
              "    </tr>\n",
              "    <tr>\n",
              "      <th>10</th>\n",
              "      <td>Chaththalisakara Maha Wipassana Bawanawa</td>\n",
              "    </tr>\n",
              "  </tbody>\n",
              "</table>\n",
              "</div>"
            ],
            "text/plain": [
              "                                                 Name\n",
              "1                                          ButhSarana\n",
              "2         Paramartha Wibagaya Sahitha Winayopadeshaya\n",
              "3                                       Pachna Prabha\n",
              "4                            Budu Dahama Ha Buddagama\n",
              "5                                        Datawanshaya\n",
              "6                    Maha Bodhi Wansha Granthi Padaya\n",
              "7   Pansiya Panas Jathaka Katha Potha Saha Gatum N...\n",
              "8                                              Sahana\n",
              "9                          Baudda Darshanaya Adyanaya\n",
              "10           Chaththalisakara Maha Wipassana Bawanawa"
            ]
          },
          "metadata": {
            "tags": []
          },
          "execution_count": 12
        }
      ]
    },
    {
      "cell_type": "markdown",
      "metadata": {
        "id": "upQ8-pM--VNH"
      },
      "source": [
        "## Recommend the books according to similarity of keywords(Plot-based)"
      ]
    },
    {
      "cell_type": "markdown",
      "metadata": {
        "id": "IPnoMLwm-VNI"
      },
      "source": [
        "### Creating the soup of keywords"
      ]
    },
    {
      "cell_type": "code",
      "metadata": {
        "id": "EJH4UMbQ-VNJ"
      },
      "source": [
        "def sanitizing(x):\n",
        "    if isinstance(x, list):\n",
        "        #Strip spaces and convert to lowercase\n",
        "        return [str.lower(i.replace(\" \", \"\")) for i in x]\n",
        "    else:\n",
        "        #Check if director exists. If not, return empty string\n",
        "        if isinstance(x, str):\n",
        "            return str.lower(x.replace(\" \", \"\"))\n",
        "        else:\n",
        "            return ''"
      ],
      "execution_count": 13,
      "outputs": []
    },
    {
      "cell_type": "code",
      "metadata": {
        "id": "Nw5K5mBf-VNO"
      },
      "source": [
        "for feature in [ 'KeyWords']:\n",
        "    books[feature] = books[feature].apply(sanitizing)"
      ],
      "execution_count": 14,
      "outputs": []
    },
    {
      "cell_type": "code",
      "metadata": {
        "id": "ghkaiL1G-VNU"
      },
      "source": [
        "def create_soup(x):\n",
        "    return ' '.join(x['KeyWords'])"
      ],
      "execution_count": 15,
      "outputs": []
    },
    {
      "cell_type": "code",
      "metadata": {
        "id": "csisijfk-VNY"
      },
      "source": [
        "books['soup'] = books.apply(create_soup, axis=1)"
      ],
      "execution_count": 16,
      "outputs": []
    },
    {
      "cell_type": "code",
      "metadata": {
        "id": "6XXn7BrZ-VNd",
        "outputId": "b30b0398-0242-46ca-96a3-93a2721480fc",
        "colab": {
          "base_uri": "https://localhost:8080/",
          "height": 35
        }
      },
      "source": [
        "books.iloc[0]['soup']"
      ],
      "execution_count": 17,
      "outputs": [
        {
          "output_type": "execute_result",
          "data": {
            "application/vnd.google.colaboratory.intrinsic+json": {
              "type": "string"
            },
            "text/plain": [
              "'gurulugomi gatapada parani pali attakatha'"
            ]
          },
          "metadata": {
            "tags": []
          },
          "execution_count": 17
        }
      ]
    },
    {
      "cell_type": "markdown",
      "metadata": {
        "id": "gogjjuIj-VNi"
      },
      "source": [
        "### Applying cosine similarity matrix for keywords"
      ]
    },
    {
      "cell_type": "code",
      "metadata": {
        "id": "edeU6RYF-VNj"
      },
      "source": [
        "count = CountVectorizer(stop_words='english')\n",
        "count_matrix = count.fit_transform(books['soup'])"
      ],
      "execution_count": 18,
      "outputs": []
    },
    {
      "cell_type": "code",
      "metadata": {
        "id": "jsXxipRs-VNo"
      },
      "source": [
        "cosine_sim = cosine_similarity(count_matrix, count_matrix)"
      ],
      "execution_count": 19,
      "outputs": []
    },
    {
      "cell_type": "code",
      "metadata": {
        "id": "WvoRnDyn-VNr",
        "outputId": "851e71f2-777a-42a2-e8cd-a6d905f5683c",
        "colab": {
          "base_uri": "https://localhost:8080/",
          "height": 136
        }
      },
      "source": [
        "print(cosine_sim)"
      ],
      "execution_count": 20,
      "outputs": [
        {
          "output_type": "stream",
          "text": [
            "[[1.         0.2        0.         ... 0.         0.         0.        ]\n",
            " [0.2        1.         0.         ... 0.         0.         0.        ]\n",
            " [0.         0.         1.         ... 0.         0.         0.        ]\n",
            " ...\n",
            " [0.         0.         0.         ... 1.         0.4        0.18257419]\n",
            " [0.         0.         0.         ... 0.4        1.         0.18257419]\n",
            " [0.         0.         0.         ... 0.18257419 0.18257419 1.        ]]\n"
          ],
          "name": "stdout"
        }
      ]
    },
    {
      "cell_type": "code",
      "metadata": {
        "id": "NaNJDkHO-VNy"
      },
      "source": [
        "books = books.reset_index()\n",
        "indices = pd.Series(books.index, index=books['Name'])"
      ],
      "execution_count": 21,
      "outputs": []
    },
    {
      "cell_type": "code",
      "metadata": {
        "id": "8OkqpBez-VN1"
      },
      "source": [
        "def content_recommender_by_keywords(Name, cosine_sim = cosine_sim,books= books,indices= indices):\n",
        "    idx = indices[Name]\n",
        "    sim_scores = list(enumerate(cosine_sim[idx]))\n",
        "    sim_scores = sorted(sim_scores, key=lambda x: x[1],reverse=True)\n",
        "    sim_scores = sim_scores[1:6]\n",
        "    book_indices = [i[0] for i in sim_scores]\n",
        "    return books['Name'].iloc[book_indices]"
      ],
      "execution_count": 22,
      "outputs": []
    },
    {
      "cell_type": "code",
      "metadata": {
        "id": "nV8evlfD-VN5",
        "outputId": "4acc21bc-db87-4ed3-f2ba-107842b493f2",
        "colab": {
          "base_uri": "https://localhost:8080/",
          "height": 119
        }
      },
      "source": [
        "#Recommending most similar 5 books\n",
        "content_recommender_by_keywords('ButhSarana', cosine_sim,books, indices)"
      ],
      "execution_count": 23,
      "outputs": [
        {
          "output_type": "execute_result",
          "data": {
            "text/plain": [
              "0                      AmaWathura\n",
              "28    Wishuddi Marga Maha Sannasa\n",
              "29               Wishuddi Margaya\n",
              "34         Nabi nayaka Charithaya\n",
              "35              Bagawath Geethawa\n",
              "Name: Name, dtype: object"
            ]
          },
          "metadata": {
            "tags": []
          },
          "execution_count": 23
        }
      ]
    },
    {
      "cell_type": "code",
      "metadata": {
        "id": "eQ3_X6mY-VN8"
      },
      "source": [
        ""
      ],
      "execution_count": null,
      "outputs": []
    },
    {
      "cell_type": "code",
      "metadata": {
        "id": "x9CL-dok-VOB"
      },
      "source": [
        ""
      ],
      "execution_count": null,
      "outputs": []
    },
    {
      "cell_type": "code",
      "metadata": {
        "id": "5AYLVlsO-VOF"
      },
      "source": [
        ""
      ],
      "execution_count": null,
      "outputs": []
    },
    {
      "cell_type": "code",
      "metadata": {
        "id": "HTgXLWq6-VOM"
      },
      "source": [
        ""
      ],
      "execution_count": null,
      "outputs": []
    },
    {
      "cell_type": "code",
      "metadata": {
        "id": "PSA9mbSj-VOQ"
      },
      "source": [
        ""
      ],
      "execution_count": null,
      "outputs": []
    },
    {
      "cell_type": "code",
      "metadata": {
        "id": "sp0U1vEq-VOT"
      },
      "source": [
        ""
      ],
      "execution_count": null,
      "outputs": []
    }
  ]
}