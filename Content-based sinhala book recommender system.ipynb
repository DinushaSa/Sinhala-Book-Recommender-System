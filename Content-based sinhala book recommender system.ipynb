{
 "cells": [
  {
   "cell_type": "code",
   "execution_count": 1,
   "metadata": {},
   "outputs": [],
   "source": [
    "import pandas as pd\n",
    "import numpy as np\n",
    "from sklearn.metrics.pairwise import cosine_similarity\n",
    "from sklearn.feature_extraction.text import CountVectorizer\n",
    "from rake_nltk import Rake\n",
    "from sklearn.feature_extraction.text import TfidfVectorizer"
   ]
  },
  {
   "cell_type": "markdown",
   "metadata": {},
   "source": [
    "## Loading the dataset"
   ]
  },
  {
   "cell_type": "code",
   "execution_count": 2,
   "metadata": {},
   "outputs": [
    {
     "data": {
      "text/html": [
       "<div>\n",
       "<style scoped>\n",
       "    .dataframe tbody tr th:only-of-type {\n",
       "        vertical-align: middle;\n",
       "    }\n",
       "\n",
       "    .dataframe tbody tr th {\n",
       "        vertical-align: top;\n",
       "    }\n",
       "\n",
       "    .dataframe thead th {\n",
       "        text-align: right;\n",
       "    }\n",
       "</style>\n",
       "<table border=\"1\" class=\"dataframe\">\n",
       "  <thead>\n",
       "    <tr style=\"text-align: right;\">\n",
       "      <th></th>\n",
       "      <th>No</th>\n",
       "      <th>Category</th>\n",
       "      <th>Name</th>\n",
       "      <th>Author</th>\n",
       "      <th>KeyWords</th>\n",
       "      <th>Top 5 Key Words</th>\n",
       "    </tr>\n",
       "  </thead>\n",
       "  <tbody>\n",
       "    <tr>\n",
       "      <th>0</th>\n",
       "      <td>1</td>\n",
       "      <td>Religious</td>\n",
       "      <td>AmaWathura</td>\n",
       "      <td>Gurulugomi</td>\n",
       "      <td>Gurulugomi, Gatapada, Parani, Pali, Attakatha,...</td>\n",
       "      <td>Gurulugomi,Gatapada, Parani,Attakatha, Jathaka</td>\n",
       "    </tr>\n",
       "    <tr>\n",
       "      <th>1</th>\n",
       "      <td>2</td>\n",
       "      <td>Religious</td>\n",
       "      <td>ButhSarana</td>\n",
       "      <td>Widyachakrawarthin</td>\n",
       "      <td>Widyachakrawarthin, Jathaka, Weera Katha, Para...</td>\n",
       "      <td>Widyachakrawarthin, Jathaka,Parani,Anukampawa,...</td>\n",
       "    </tr>\n",
       "    <tr>\n",
       "      <th>2</th>\n",
       "      <td>3</td>\n",
       "      <td>Religious</td>\n",
       "      <td>Paramartha Wibagaya Sahitha Winayopadeshaya</td>\n",
       "      <td>Witiyala Sri Sarananda Maha Sthawira</td>\n",
       "      <td>Upadesha, Winaya Karma, Pooja Krama, Daramaya,...</td>\n",
       "      <td>Srala Basa, Upadesha, Winaya Karma, Pooja Kram...</td>\n",
       "    </tr>\n",
       "    <tr>\n",
       "      <th>3</th>\n",
       "      <td>4</td>\n",
       "      <td>Religious</td>\n",
       "      <td>Pachna Prabha</td>\n",
       "      <td>Thrikunamalaye Ananda Sthawira</td>\n",
       "      <td>Prachnawa, Weerya, Arisen Ahubudu, Samajaya, N...</td>\n",
       "      <td>Arisen Ahubudu,Nirwanaya, Seelaya,Samajaya,Pr...</td>\n",
       "    </tr>\n",
       "    <tr>\n",
       "      <th>4</th>\n",
       "      <td>5</td>\n",
       "      <td>Religious</td>\n",
       "      <td>Budu Dahama Ha Buddagama</td>\n",
       "      <td>M.M.J Marasingha</td>\n",
       "      <td>Parinirwanaya, Baudda Ithihasaya, Ethihasika S...</td>\n",
       "      <td>Parinirwanaya,Baudda Ithihasaya, Ethihasika St...</td>\n",
       "    </tr>\n",
       "  </tbody>\n",
       "</table>\n",
       "</div>"
      ],
      "text/plain": [
       "   No   Category                                         Name  \\\n",
       "0   1  Religious                                   AmaWathura   \n",
       "1   2  Religious                                   ButhSarana   \n",
       "2   3  Religious  Paramartha Wibagaya Sahitha Winayopadeshaya   \n",
       "3   4  Religious                                Pachna Prabha   \n",
       "4   5  Religious                     Budu Dahama Ha Buddagama   \n",
       "\n",
       "                                 Author  \\\n",
       "0                            Gurulugomi   \n",
       "1                    Widyachakrawarthin   \n",
       "2  Witiyala Sri Sarananda Maha Sthawira   \n",
       "3        Thrikunamalaye Ananda Sthawira   \n",
       "4                      M.M.J Marasingha   \n",
       "\n",
       "                                            KeyWords  \\\n",
       "0  Gurulugomi, Gatapada, Parani, Pali, Attakatha,...   \n",
       "1  Widyachakrawarthin, Jathaka, Weera Katha, Para...   \n",
       "2  Upadesha, Winaya Karma, Pooja Krama, Daramaya,...   \n",
       "3  Prachnawa, Weerya, Arisen Ahubudu, Samajaya, N...   \n",
       "4  Parinirwanaya, Baudda Ithihasaya, Ethihasika S...   \n",
       "\n",
       "                                     Top 5 Key Words  \n",
       "0     Gurulugomi,Gatapada, Parani,Attakatha, Jathaka  \n",
       "1  Widyachakrawarthin, Jathaka,Parani,Anukampawa,...  \n",
       "2  Srala Basa, Upadesha, Winaya Karma, Pooja Kram...  \n",
       "3   Arisen Ahubudu,Nirwanaya, Seelaya,Samajaya,Pr...  \n",
       "4  Parinirwanaya,Baudda Ithihasaya, Ethihasika St...  "
      ]
     },
     "execution_count": 2,
     "metadata": {},
     "output_type": "execute_result"
    }
   ],
   "source": [
    "books = pd.read_csv(r'C:\\Users\\DINUSHA\\Pictures\\Machine learning project\\Booklist.csv')\n",
    "books.head()"
   ]
  },
  {
   "cell_type": "markdown",
   "metadata": {},
   "source": [
    "## Cleaning the dataset"
   ]
  },
  {
   "cell_type": "code",
   "execution_count": 3,
   "metadata": {},
   "outputs": [],
   "source": [
    "books = books[['Category','Name','Author','KeyWords']]"
   ]
  },
  {
   "cell_type": "code",
   "execution_count": 4,
   "metadata": {},
   "outputs": [
    {
     "data": {
      "text/html": [
       "<div>\n",
       "<style scoped>\n",
       "    .dataframe tbody tr th:only-of-type {\n",
       "        vertical-align: middle;\n",
       "    }\n",
       "\n",
       "    .dataframe tbody tr th {\n",
       "        vertical-align: top;\n",
       "    }\n",
       "\n",
       "    .dataframe thead th {\n",
       "        text-align: right;\n",
       "    }\n",
       "</style>\n",
       "<table border=\"1\" class=\"dataframe\">\n",
       "  <thead>\n",
       "    <tr style=\"text-align: right;\">\n",
       "      <th></th>\n",
       "      <th>Category</th>\n",
       "      <th>Name</th>\n",
       "      <th>Author</th>\n",
       "      <th>KeyWords</th>\n",
       "    </tr>\n",
       "  </thead>\n",
       "  <tbody>\n",
       "    <tr>\n",
       "      <th>0</th>\n",
       "      <td>Religious</td>\n",
       "      <td>AmaWathura</td>\n",
       "      <td>Gurulugomi</td>\n",
       "      <td>Gurulugomi, Gatapada, Parani, Pali, Attakatha,...</td>\n",
       "    </tr>\n",
       "    <tr>\n",
       "      <th>1</th>\n",
       "      <td>Religious</td>\n",
       "      <td>ButhSarana</td>\n",
       "      <td>Widyachakrawarthin</td>\n",
       "      <td>Widyachakrawarthin, Jathaka, Weera Katha, Para...</td>\n",
       "    </tr>\n",
       "    <tr>\n",
       "      <th>2</th>\n",
       "      <td>Religious</td>\n",
       "      <td>Paramartha Wibagaya Sahitha Winayopadeshaya</td>\n",
       "      <td>Witiyala Sri Sarananda Maha Sthawira</td>\n",
       "      <td>Upadesha, Winaya Karma, Pooja Krama, Daramaya,...</td>\n",
       "    </tr>\n",
       "    <tr>\n",
       "      <th>3</th>\n",
       "      <td>Religious</td>\n",
       "      <td>Pachna Prabha</td>\n",
       "      <td>Thrikunamalaye Ananda Sthawira</td>\n",
       "      <td>Prachnawa, Weerya, Arisen Ahubudu, Samajaya, N...</td>\n",
       "    </tr>\n",
       "    <tr>\n",
       "      <th>4</th>\n",
       "      <td>Religious</td>\n",
       "      <td>Budu Dahama Ha Buddagama</td>\n",
       "      <td>M.M.J Marasingha</td>\n",
       "      <td>Parinirwanaya, Baudda Ithihasaya, Ethihasika S...</td>\n",
       "    </tr>\n",
       "  </tbody>\n",
       "</table>\n",
       "</div>"
      ],
      "text/plain": [
       "    Category                                         Name  \\\n",
       "0  Religious                                   AmaWathura   \n",
       "1  Religious                                   ButhSarana   \n",
       "2  Religious  Paramartha Wibagaya Sahitha Winayopadeshaya   \n",
       "3  Religious                                Pachna Prabha   \n",
       "4  Religious                     Budu Dahama Ha Buddagama   \n",
       "\n",
       "                                 Author  \\\n",
       "0                            Gurulugomi   \n",
       "1                    Widyachakrawarthin   \n",
       "2  Witiyala Sri Sarananda Maha Sthawira   \n",
       "3        Thrikunamalaye Ananda Sthawira   \n",
       "4                      M.M.J Marasingha   \n",
       "\n",
       "                                            KeyWords  \n",
       "0  Gurulugomi, Gatapada, Parani, Pali, Attakatha,...  \n",
       "1  Widyachakrawarthin, Jathaka, Weera Katha, Para...  \n",
       "2  Upadesha, Winaya Karma, Pooja Krama, Daramaya,...  \n",
       "3  Prachnawa, Weerya, Arisen Ahubudu, Samajaya, N...  \n",
       "4  Parinirwanaya, Baudda Ithihasaya, Ethihasika S...  "
      ]
     },
     "execution_count": 4,
     "metadata": {},
     "output_type": "execute_result"
    }
   ],
   "source": [
    "books.head()"
   ]
  },
  {
   "cell_type": "code",
   "execution_count": 5,
   "metadata": {},
   "outputs": [
    {
     "data": {
      "text/plain": [
       "Category    0\n",
       "Name        0\n",
       "Author      0\n",
       "KeyWords    0\n",
       "dtype: int64"
      ]
     },
     "execution_count": 5,
     "metadata": {},
     "output_type": "execute_result"
    }
   ],
   "source": [
    "#checking for null values\n",
    "books.isnull().sum()"
   ]
  },
  {
   "cell_type": "code",
   "execution_count": 6,
   "metadata": {},
   "outputs": [
    {
     "data": {
      "text/plain": [
       "(200, 4)"
      ]
     },
     "execution_count": 6,
     "metadata": {},
     "output_type": "execute_result"
    }
   ],
   "source": [
    "books.shape"
   ]
  },
  {
   "cell_type": "code",
   "execution_count": 7,
   "metadata": {},
   "outputs": [],
   "source": [
    "#Getting top 5 keywords\n",
    "books['KeyWords'] = books['KeyWords'].map(lambda x: x.split(',')[:5])"
   ]
  },
  {
   "cell_type": "code",
   "execution_count": 8,
   "metadata": {},
   "outputs": [
    {
     "data": {
      "text/html": [
       "<div>\n",
       "<style scoped>\n",
       "    .dataframe tbody tr th:only-of-type {\n",
       "        vertical-align: middle;\n",
       "    }\n",
       "\n",
       "    .dataframe tbody tr th {\n",
       "        vertical-align: top;\n",
       "    }\n",
       "\n",
       "    .dataframe thead th {\n",
       "        text-align: right;\n",
       "    }\n",
       "</style>\n",
       "<table border=\"1\" class=\"dataframe\">\n",
       "  <thead>\n",
       "    <tr style=\"text-align: right;\">\n",
       "      <th></th>\n",
       "      <th>Category</th>\n",
       "      <th>Name</th>\n",
       "      <th>Author</th>\n",
       "      <th>KeyWords</th>\n",
       "    </tr>\n",
       "  </thead>\n",
       "  <tbody>\n",
       "    <tr>\n",
       "      <th>0</th>\n",
       "      <td>Religious</td>\n",
       "      <td>AmaWathura</td>\n",
       "      <td>Gurulugomi</td>\n",
       "      <td>[Gurulugomi,  Gatapada,  Parani,  Pali,  Attak...</td>\n",
       "    </tr>\n",
       "    <tr>\n",
       "      <th>1</th>\n",
       "      <td>Religious</td>\n",
       "      <td>ButhSarana</td>\n",
       "      <td>Widyachakrawarthin</td>\n",
       "      <td>[Widyachakrawarthin,  Jathaka,  Weera Katha,  ...</td>\n",
       "    </tr>\n",
       "    <tr>\n",
       "      <th>2</th>\n",
       "      <td>Religious</td>\n",
       "      <td>Paramartha Wibagaya Sahitha Winayopadeshaya</td>\n",
       "      <td>Witiyala Sri Sarananda Maha Sthawira</td>\n",
       "      <td>[Upadesha,  Winaya Karma,  Pooja Krama,  Daram...</td>\n",
       "    </tr>\n",
       "    <tr>\n",
       "      <th>3</th>\n",
       "      <td>Religious</td>\n",
       "      <td>Pachna Prabha</td>\n",
       "      <td>Thrikunamalaye Ananda Sthawira</td>\n",
       "      <td>[Prachnawa,  Weerya,  Arisen Ahubudu,  Samajay...</td>\n",
       "    </tr>\n",
       "    <tr>\n",
       "      <th>4</th>\n",
       "      <td>Religious</td>\n",
       "      <td>Budu Dahama Ha Buddagama</td>\n",
       "      <td>M.M.J Marasingha</td>\n",
       "      <td>[Parinirwanaya,  Baudda Ithihasaya,  Ethihasik...</td>\n",
       "    </tr>\n",
       "  </tbody>\n",
       "</table>\n",
       "</div>"
      ],
      "text/plain": [
       "    Category                                         Name  \\\n",
       "0  Religious                                   AmaWathura   \n",
       "1  Religious                                   ButhSarana   \n",
       "2  Religious  Paramartha Wibagaya Sahitha Winayopadeshaya   \n",
       "3  Religious                                Pachna Prabha   \n",
       "4  Religious                     Budu Dahama Ha Buddagama   \n",
       "\n",
       "                                 Author  \\\n",
       "0                            Gurulugomi   \n",
       "1                    Widyachakrawarthin   \n",
       "2  Witiyala Sri Sarananda Maha Sthawira   \n",
       "3        Thrikunamalaye Ananda Sthawira   \n",
       "4                      M.M.J Marasingha   \n",
       "\n",
       "                                            KeyWords  \n",
       "0  [Gurulugomi,  Gatapada,  Parani,  Pali,  Attak...  \n",
       "1  [Widyachakrawarthin,  Jathaka,  Weera Katha,  ...  \n",
       "2  [Upadesha,  Winaya Karma,  Pooja Krama,  Daram...  \n",
       "3  [Prachnawa,  Weerya,  Arisen Ahubudu,  Samajay...  \n",
       "4  [Parinirwanaya,  Baudda Ithihasaya,  Ethihasik...  "
      ]
     },
     "execution_count": 8,
     "metadata": {},
     "output_type": "execute_result"
    }
   ],
   "source": [
    "books.head()"
   ]
  },
  {
   "cell_type": "code",
   "execution_count": 9,
   "metadata": {},
   "outputs": [],
   "source": [
    "books.to_csv(r'C:\\Users\\DINUSHA\\Pictures\\Machine learning project/booksset_updated.csv', index=False)"
   ]
  },
  {
   "cell_type": "markdown",
   "metadata": {},
   "source": [
    "## Plotting the graph according to category"
   ]
  },
  {
   "cell_type": "code",
   "execution_count": 10,
   "metadata": {},
   "outputs": [
    {
     "data": {
      "text/plain": [
       "<matplotlib.axes._subplots.AxesSubplot at 0x17f818a4448>"
      ]
     },
     "execution_count": 10,
     "metadata": {},
     "output_type": "execute_result"
    },
    {
     "data": {
      "image/png": "[encoded data removed]",
      "text/plain": [
       "<Figure size 720x360 with 1 Axes>"
      ]
     },
     "metadata": {
      "needs_background": "light"
     },
     "output_type": "display_data"
    }
   ],
   "source": [
    "books['Category'].value_counts().plot(x = 'Category', y ='count', kind = 'bar', figsize = (10,5)  )"
   ]
  },
  {
   "cell_type": "markdown",
   "metadata": {},
   "source": [
    "## Recommend books of  the same category "
   ]
  },
  {
   "cell_type": "code",
   "execution_count": 11,
   "metadata": {},
   "outputs": [],
   "source": [
    "def recommenderCategory(Name, Category):\n",
    "    bookdata = books.loc[books['Category'] == Category]  \n",
    "    bookdata.reset_index(level = 0, inplace = True)\n",
    "    indices = pd.Series(bookdata.index, index = bookdata['Name'])\n",
    "#applying tifdif matrix to data\n",
    "    tf = TfidfVectorizer(analyzer='word', ngram_range=(2, 2), min_df = 1, stop_words='english')\n",
    "    tfidf_matrix = tf.fit_transform(bookdata['Name'])\n",
    "#applying cosine similarity matrix\n",
    "    sg = cosine_similarity(tfidf_matrix, tfidf_matrix)\n",
    "    idx = indices[Name]\n",
    "    sig = list(enumerate(sg[idx]))\n",
    "# Sort the books\n",
    "    sig = sorted(sig, key=lambda x: x[1], reverse=True)\n",
    "# Scores of the 10 most similar books \n",
    "    sig = sig[1:11]\n",
    "# Book indicies\n",
    "    book_indices = [i[0] for i in sig]\n",
    "    rec = bookdata[['Name']].iloc[book_indices]\n",
    "    return rec"
   ]
  },
  {
   "cell_type": "code",
   "execution_count": 12,
   "metadata": {},
   "outputs": [
    {
     "data": {
      "text/html": [
       "<div>\n",
       "<style scoped>\n",
       "    .dataframe tbody tr th:only-of-type {\n",
       "        vertical-align: middle;\n",
       "    }\n",
       "\n",
       "    .dataframe tbody tr th {\n",
       "        vertical-align: top;\n",
       "    }\n",
       "\n",
       "    .dataframe thead th {\n",
       "        text-align: right;\n",
       "    }\n",
       "</style>\n",
       "<table border=\"1\" class=\"dataframe\">\n",
       "  <thead>\n",
       "    <tr style=\"text-align: right;\">\n",
       "      <th></th>\n",
       "      <th>Name</th>\n",
       "    </tr>\n",
       "  </thead>\n",
       "  <tbody>\n",
       "    <tr>\n",
       "      <th>1</th>\n",
       "      <td>ButhSarana</td>\n",
       "    </tr>\n",
       "    <tr>\n",
       "      <th>2</th>\n",
       "      <td>Paramartha Wibagaya Sahitha Winayopadeshaya</td>\n",
       "    </tr>\n",
       "    <tr>\n",
       "      <th>3</th>\n",
       "      <td>Pachna Prabha</td>\n",
       "    </tr>\n",
       "    <tr>\n",
       "      <th>4</th>\n",
       "      <td>Budu Dahama Ha Buddagama</td>\n",
       "    </tr>\n",
       "    <tr>\n",
       "      <th>5</th>\n",
       "      <td>Datawanshaya</td>\n",
       "    </tr>\n",
       "    <tr>\n",
       "      <th>6</th>\n",
       "      <td>Maha Bodhi Wansha Granthi Padaya</td>\n",
       "    </tr>\n",
       "    <tr>\n",
       "      <th>7</th>\n",
       "      <td>Pansiya Panas Jathaka Katha Potha Saha Gatum N...</td>\n",
       "    </tr>\n",
       "    <tr>\n",
       "      <th>8</th>\n",
       "      <td>Sahana</td>\n",
       "    </tr>\n",
       "    <tr>\n",
       "      <th>9</th>\n",
       "      <td>Baudda Darshanaya Adyanaya</td>\n",
       "    </tr>\n",
       "    <tr>\n",
       "      <th>10</th>\n",
       "      <td>Chaththalisakara Maha Wipassana Bawanawa</td>\n",
       "    </tr>\n",
       "  </tbody>\n",
       "</table>\n",
       "</div>"
      ],
      "text/plain": [
       "                                                 Name\n",
       "1                                          ButhSarana\n",
       "2         Paramartha Wibagaya Sahitha Winayopadeshaya\n",
       "3                                       Pachna Prabha\n",
       "4                            Budu Dahama Ha Buddagama\n",
       "5                                        Datawanshaya\n",
       "6                    Maha Bodhi Wansha Granthi Padaya\n",
       "7   Pansiya Panas Jathaka Katha Potha Saha Gatum N...\n",
       "8                                              Sahana\n",
       "9                          Baudda Darshanaya Adyanaya\n",
       "10           Chaththalisakara Maha Wipassana Bawanawa"
      ]
     },
     "execution_count": 12,
     "metadata": {},
     "output_type": "execute_result"
    }
   ],
   "source": [
    "recommenderCategory('AmaWathura','Religious')"
   ]
  },
  {
   "cell_type": "markdown",
   "metadata": {},
   "source": [
    "## Recommend the books according to similarity of keywords(Plot-based)"
   ]
  },
  {
   "cell_type": "markdown",
   "metadata": {},
   "source": [
    "### Creating the soup of keywords"
   ]
  },
  {
   "cell_type": "code",
   "execution_count": 13,
   "metadata": {},
   "outputs": [],
   "source": [
    "def sanitizing(x):\n",
    "    if isinstance(x, list):\n",
    "        #Strip spaces and convert to lowercase\n",
    "        return [str.lower(i.replace(\" \", \"\")) for i in x]\n",
    "    else:\n",
    "        #Check if director exists. If not, return empty string\n",
    "        if isinstance(x, str):\n",
    "            return str.lower(x.replace(\" \", \"\"))\n",
    "        else:\n",
    "            return ''"
   ]
  },
  {
   "cell_type": "code",
   "execution_count": 14,
   "metadata": {},
   "outputs": [],
   "source": [
    "for feature in [ 'KeyWords']:\n",
    "    books[feature] = books[feature].apply(sanitizing)"
   ]
  },
  {
   "cell_type": "code",
   "execution_count": 15,
   "metadata": {},
   "outputs": [],
   "source": [
    "def create_soup(x):\n",
    "    return ' '.join(x['KeyWords'])"
   ]
  },
  {
   "cell_type": "code",
   "execution_count": 16,
   "metadata": {},
   "outputs": [],
   "source": [
    "books['soup'] = books.apply(create_soup, axis=1)"
   ]
  },
  {
   "cell_type": "code",
   "execution_count": 17,
   "metadata": {},
   "outputs": [
    {
     "data": {
      "text/plain": [
       "'gurulugomi gatapada parani pali attakatha'"
      ]
     },
     "execution_count": 17,
     "metadata": {},
     "output_type": "execute_result"
    }
   ],
   "source": [
    "books.iloc[0]['soup']"
   ]
  },
  {
   "cell_type": "markdown",
   "metadata": {},
   "source": [
    "### Applying cosine similarity matrix for keywords"
   ]
  },
  {
   "cell_type": "code",
   "execution_count": 18,
   "metadata": {},
   "outputs": [],
   "source": [
    "count = CountVectorizer(stop_words='english')\n",
    "count_matrix = count.fit_transform(books['soup'])"
   ]
  },
  {
   "cell_type": "code",
   "execution_count": 19,
   "metadata": {},
   "outputs": [],
   "source": [
    "cosine_sim = cosine_similarity(count_matrix, count_matrix)"
   ]
  },
  {
   "cell_type": "code",
   "execution_count": 20,
   "metadata": {},
   "outputs": [
    {
     "name": "stdout",
     "output_type": "stream",
     "text": [
      "[[1.         0.2        0.         ... 0.         0.         0.        ]\n",
      " [0.2        1.         0.         ... 0.         0.         0.        ]\n",
      " [0.         0.         1.         ... 0.         0.         0.        ]\n",
      " ...\n",
      " [0.         0.         0.         ... 1.         0.4        0.18257419]\n",
      " [0.         0.         0.         ... 0.4        1.         0.18257419]\n",
      " [0.         0.         0.         ... 0.18257419 0.18257419 1.        ]]\n"
     ]
    }
   ],
   "source": [
    "print(cosine_sim)"
   ]
  },
  {
   "cell_type": "code",
   "execution_count": 21,
   "metadata": {},
   "outputs": [],
   "source": [
    "books = books.reset_index()\n",
    "indices = pd.Series(books.index, index=books['Name'])"
   ]
  },
  {
   "cell_type": "code",
   "execution_count": 22,
   "metadata": {},
   "outputs": [],
   "source": [
    "def content_recommender_by_keywords(Name, cosine_sim = cosine_sim,books= books,indices= indices):\n",
    "    idx = indices[Name]\n",
    "    sim_scores = list(enumerate(cosine_sim[idx]))\n",
    "    sim_scores = sorted(sim_scores, key=lambda x: x[1],reverse=True)\n",
    "    sim_scores = sim_scores[1:6]\n",
    "    book_indices = [i[0] for i in sim_scores]\n",
    "    return books['Name'].iloc[book_indices]"
   ]
  },
  {
   "cell_type": "code",
   "execution_count": 24,
   "metadata": {},
   "outputs": [
    {
     "data": {
      "text/plain": [
       "94              Panapitin Narakaadiyata\n",
       "109                      Saumyaalookaya\n",
       "158    Nishantha Maya saha tawath katha\n",
       "0                            AmaWathura\n",
       "1                            ButhSarana\n",
       "Name: Name, dtype: object"
      ]
     },
     "execution_count": 24,
     "metadata": {},
     "output_type": "execute_result"
    }
   ],
   "source": [
    "#Recommending most similar 5 books\n",
    "content_recommender_by_keywords('Golu Muhuda', cosine_sim,books, indices)"
   ]
  },
  {
   "cell_type": "code",
   "execution_count": null,
   "metadata": {},
   "outputs": [],
   "source": []
  },
  {
   "cell_type": "code",
   "execution_count": null,
   "metadata": {},
   "outputs": [],
   "source": []
  },
  {
   "cell_type": "code",
   "execution_count": null,
   "metadata": {},
   "outputs": [],
   "source": []
  },
  {
   "cell_type": "code",
   "execution_count": null,
   "metadata": {},
   "outputs": [],
   "source": []
  },
  {
   "cell_type": "code",
   "execution_count": null,
   "metadata": {},
   "outputs": [],
   "source": []
  },
  {
   "cell_type": "code",
   "execution_count": null,
   "metadata": {},
   "outputs": [],
   "source": []
  }
 ],
 "metadata": {
  "kernelspec": {
   "display_name": "Python 3",
   "language": "python",
   "name": "python3"
  },
  "language_info": {
   "codemirror_mode": {
    "name": "ipython",
    "version": 3
   },
   "file_extension": ".py",
   "mimetype": "text/x-python",
   "name": "python",
   "nbconvert_exporter": "python",
   "pygments_lexer": "ipython3",
   "version": "3.7.6"
  }
 },
 "nbformat": 4,
 "nbformat_minor": 4
}
